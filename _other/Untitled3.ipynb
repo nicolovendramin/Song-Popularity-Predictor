{
 "cells": [
  {
   "cell_type": "code",
   "execution_count": 5,
   "metadata": {
    "collapsed": true
   },
   "outputs": [],
   "source": [
    "import pandas as pd\n",
    "\n",
    "data = pd.read_csv('data/data.csv')\n",
    "\n",
    "#print(data.head(10))\n",
    "# Extracting the countries present in the dataset\n",
    "countries = data['Region']\n",
    "countries = list(set(countries))\n",
    "# Mapping each country to an array position and viceversa\n",
    "id_to_country = dict(enumerate(countries))\n",
    "country_to_id = {v: k for k, v in id_to_country.items()}"
   ]
  },
  {
   "cell_type": "code",
   "execution_count": 6,
   "metadata": {},
   "outputs": [
    {
     "name": "stdout",
     "output_type": "stream",
     "text": [
      "{'gt': 18, 'co': 1, 'gr': 2, 'cl': 23, 'ee': 4, 'ca': 5, 'global': 6, 'it': 7, 'ec': 8, 'cz': 9, 'cy': 10, 'ch': 0, 'au': 12, 'at': 13, 'cr': 14, 'ie': 15, 'id': 16, 'es': 17, 'nl': 19, 'pt': 20, 'no': 21, 'tw': 22, 'py': 30, 'tr': 24, 'lt': 27, 'lv': 26, 'nz': 25, 'pa': 28, 'pe': 29, 'ph': 31, 'is': 32, 'pl': 33, 'do': 3, 'fr': 35, 'bo': 38, 'dk': 37, 'de': 36, 'jp': 39, 'hu': 40, 'hk': 41, 'hn': 42, 'br': 43, 'fi': 44, 'be': 34, 'uy': 45, 'my': 50, 'sv': 47, 'us': 48, 'sk': 49, 'ar': 11, 'sg': 46, 'mx': 51, 'se': 52, 'gb': 53}\n"
     ]
    }
   ],
   "source": [
    "print country_to_id"
   ]
  },
  {
   "cell_type": "code",
   "execution_count": 3,
   "metadata": {},
   "outputs": [
    {
     "ename": "NameError",
     "evalue": "name 'sort' is not defined",
     "output_type": "error",
     "traceback": [
      "\u001b[0;31m---------------------------------------------------------------------------\u001b[0m",
      "\u001b[0;31mNameError\u001b[0m                                 Traceback (most recent call last)",
      "\u001b[0;32m<ipython-input-3-c9f94dddde17>\u001b[0m in \u001b[0;36m<module>\u001b[0;34m()\u001b[0m\n\u001b[0;32m----> 1\u001b[0;31m \u001b[0msort\u001b[0m\u001b[0;34m(\u001b[0m\u001b[0mcountries\u001b[0m\u001b[0;34m)\u001b[0m\u001b[0;34m\u001b[0m\u001b[0m\n\u001b[0m",
      "\u001b[0;31mNameError\u001b[0m: name 'sort' is not defined"
     ]
    }
   ],
   "source": [
    "sort(countries)"
   ]
  },
  {
   "cell_type": "code",
   "execution_count": null,
   "metadata": {
    "collapsed": true
   },
   "outputs": [],
   "source": [
    "Blu, orange, green, red, purple, brown"
   ]
  }
 ],
 "metadata": {
  "kernelspec": {
   "display_name": "Python 2",
   "language": "python",
   "name": "python2"
  },
  "language_info": {
   "codemirror_mode": {
    "name": "ipython",
    "version": 2
   },
   "file_extension": ".py",
   "mimetype": "text/x-python",
   "name": "python",
   "nbconvert_exporter": "python",
   "pygments_lexer": "ipython2",
   "version": "2.7.13"
  }
 },
 "nbformat": 4,
 "nbformat_minor": 2
}
