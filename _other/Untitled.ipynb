{
 "cells": [
  {
   "cell_type": "code",
   "execution_count": 4,
   "metadata": {},
   "outputs": [],
   "source": [
    "import random\n",
    "import time\n",
    "import pickle\n",
    "\"\"\"\n",
    "https://github.com/Vict0rSch/deep_learning/tree/master/keras/recurrent\n",
    "\"\"\"\n",
    "t = []\n",
    "tt = []\n",
    "data = []\n",
    "def holdout_split(sample_sequences, hold_out_perc=80):\n",
    "    # This function returns the random holdout split for the given data\n",
    "\n",
    "    # Ar first you shuffle the data\n",
    "    random.shuffle(sample_sequences)\n",
    "\n",
    "    # You compute the length and the size of the split\n",
    "    length = len(sample_sequences)\n",
    "    train_length = int(length * hold_out_perc / 100)\n",
    "\n",
    "    test_set = []\n",
    "    train_set = []\n",
    "    n = 0\n",
    "\n",
    "    # We pick the first train_length lines for the train_set and the resting for the testing\n",
    "    for i in sample_sequences:\n",
    "        if n < train_length:\n",
    "            train_set.append(i)\n",
    "        else:\n",
    "            test_set.append(i)\n",
    "\n",
    "        n = n + 1\n",
    "\n",
    "    return train_set, test_set\n",
    "\n",
    "\n",
    "def split_sets(train_set, test_set):\n",
    "    # This function returns the two sets: inputs, targets\n",
    "\n",
    "    X_tr = []\n",
    "    Y_tr = []\n",
    "    for t in train_set:\n",
    "        X_tr.append(t[0])\n",
    "        Y_tr.append(t[1])\n",
    "\n",
    "    X_te = []\n",
    "    Y_te = []\n",
    "    for t in train_set:\n",
    "        X_te.append(t[0])\n",
    "        Y_te.append(t[1])\n",
    "\n",
    "    return np.array(X_tr), np.array(Y_tr), np.array(X_te), np.array(Y_te)\n",
    "\n",
    "\n",
    "def main():\n",
    "    file = open('split.txt', 'rb')\n",
    "    ss, countries_number = pickle.load(file)\n",
    "    file.close()\n",
    "\n",
    "    t, tt = holdout_split(ss)\n",
    "\n",
    "    data = split_sets(t, tt)"
   ]
  },
  {
   "cell_type": "code",
   "execution_count": 7,
   "metadata": {},
   "outputs": [
    {
     "ename": "UnicodeDecodeError",
     "evalue": "'ascii' codec can't decode byte 0xf0 in position 6: ordinal not in range(128)",
     "output_type": "error",
     "traceback": [
      "\u001b[0;31m---------------------------------------------------------------------------\u001b[0m",
      "\u001b[0;31mUnicodeDecodeError\u001b[0m                        Traceback (most recent call last)",
      "\u001b[0;32m<ipython-input-7-675a1e7b81bd>\u001b[0m in \u001b[0;36m<module>\u001b[0;34m()\u001b[0m\n\u001b[0;32m----> 1\u001b[0;31m \u001b[0mmain\u001b[0m\u001b[0;34m(\u001b[0m\u001b[0;34m)\u001b[0m\u001b[0;34m\u001b[0m\u001b[0m\n\u001b[0m\u001b[1;32m      2\u001b[0m \u001b[0mprint\u001b[0m\u001b[0;34m(\u001b[0m\u001b[0mdata\u001b[0m\u001b[0;34m)\u001b[0m\u001b[0;34m\u001b[0m\u001b[0m\n",
      "\u001b[0;32m<ipython-input-4-6c8ceda7b7d7>\u001b[0m in \u001b[0;36mmain\u001b[0;34m()\u001b[0m\n\u001b[1;32m     54\u001b[0m \u001b[0;32mdef\u001b[0m \u001b[0mmain\u001b[0m\u001b[0;34m(\u001b[0m\u001b[0;34m)\u001b[0m\u001b[0;34m:\u001b[0m\u001b[0;34m\u001b[0m\u001b[0m\n\u001b[1;32m     55\u001b[0m     \u001b[0mfile\u001b[0m \u001b[0;34m=\u001b[0m \u001b[0mopen\u001b[0m\u001b[0;34m(\u001b[0m\u001b[0;34m'split.txt'\u001b[0m\u001b[0;34m,\u001b[0m \u001b[0;34m'rb'\u001b[0m\u001b[0;34m)\u001b[0m\u001b[0;34m\u001b[0m\u001b[0m\n\u001b[0;32m---> 56\u001b[0;31m     \u001b[0mss\u001b[0m\u001b[0;34m,\u001b[0m \u001b[0mcountries_number\u001b[0m \u001b[0;34m=\u001b[0m \u001b[0mpickle\u001b[0m\u001b[0;34m.\u001b[0m\u001b[0mload\u001b[0m\u001b[0;34m(\u001b[0m\u001b[0mfile\u001b[0m\u001b[0;34m)\u001b[0m\u001b[0;34m\u001b[0m\u001b[0m\n\u001b[0m\u001b[1;32m     57\u001b[0m     \u001b[0mfile\u001b[0m\u001b[0;34m.\u001b[0m\u001b[0mclose\u001b[0m\u001b[0;34m(\u001b[0m\u001b[0;34m)\u001b[0m\u001b[0;34m\u001b[0m\u001b[0m\n\u001b[1;32m     58\u001b[0m \u001b[0;34m\u001b[0m\u001b[0m\n",
      "\u001b[0;31mUnicodeDecodeError\u001b[0m: 'ascii' codec can't decode byte 0xf0 in position 6: ordinal not in range(128)"
     ]
    }
   ],
   "source": [
    "main()\n",
    "print(data)"
   ]
  },
  {
   "cell_type": "code",
   "execution_count": null,
   "metadata": {
    "collapsed": true
   },
   "outputs": [],
   "source": []
  }
 ],
 "metadata": {
  "kernelspec": {
   "display_name": "Python 3",
   "language": "python",
   "name": "python3"
  },
  "language_info": {
   "codemirror_mode": {
    "name": "ipython",
    "version": 3
   },
   "file_extension": ".py",
   "mimetype": "text/x-python",
   "name": "python",
   "nbconvert_exporter": "python",
   "pygments_lexer": "ipython3",
   "version": "3.5.3"
  }
 },
 "nbformat": 4,
 "nbformat_minor": 2
}
